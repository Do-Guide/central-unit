{
 "cells": [
  {
   "cell_type": "markdown",
   "id": "190ed563",
   "metadata": {},
   "source": [
    "### Imports + API"
   ]
  },
  {
   "cell_type": "code",
   "execution_count": 8,
   "id": "86eda753",
   "metadata": {
    "scrolled": true
   },
   "outputs": [],
   "source": [
    "import geocoder\n",
    "import gmaps\n",
    "import googlemaps\n",
    "from geopy.geocoders import Nominatim\n",
    "import requests\n",
    "from datetime import datetime\n",
    "gmaps2 = googlemaps.Client(key='ADD_KEY')\n"
   ]
  },
  {
   "cell_type": "markdown",
   "id": "91b3288c",
   "metadata": {},
   "source": [
    "### Local de Partida"
   ]
  },
  {
   "cell_type": "code",
   "execution_count": 15,
   "id": "f1384b31",
   "metadata": {},
   "outputs": [
    {
     "data": {
      "text/plain": [
       "(-15.96335, -48.02669)"
      ]
     },
     "execution_count": 15,
     "metadata": {},
     "output_type": "execute_result"
    }
   ],
   "source": [
    "# Coordenadas Imprecisas\n",
    "partida = geocoder.ip('me')\n",
    "coordenadas_partida = tuple(partida.latlng)\n",
    "#coordenadas_partida = (-15.96335, -48.02669) #Exemplo\n",
    "coordenadas_partida\n"
   ]
  },
  {
   "cell_type": "markdown",
   "id": "106cf288",
   "metadata": {},
   "source": [
    "### Destino"
   ]
  },
  {
   "cell_type": "code",
   "execution_count": 4,
   "id": "81134586",
   "metadata": {},
   "outputs": [
    {
     "data": {
      "text/plain": [
       "(45.8354481, 9.0262844)"
      ]
     },
     "execution_count": 4,
     "metadata": {},
     "output_type": "execute_result"
    }
   ],
   "source": [
    "## Destino Sem api maps\n",
    "loc = Nominatim(user_agent=\"GetLoc\")\n",
    "local = loc.geocode(\"UnB FGA Gama\")\n",
    "coordenadas_destino =(local.latitude, local.longitude)\n",
    "\n",
    "coordenadas_destino"
   ]
  },
  {
   "cell_type": "code",
   "execution_count": 10,
   "id": "1b6a1311",
   "metadata": {},
   "outputs": [
    {
     "data": {
      "text/plain": [
       "(-15.9403704, -48.0398883)"
      ]
     },
     "execution_count": 10,
     "metadata": {},
     "output_type": "execute_result"
    }
   ],
   "source": [
    "## Destino com API\n",
    "# local = 'Park Shopping Brasília'\n",
    "#local = 'UnB Campus Gama'\n",
    "local = 'UBS 5 Riacho Fundo'\n",
    "destino = gmaps2.geocode(local)\n",
    "coordenadas_destino = (destino[0][\"geometry\"][\"location\"]['lat'], destino[0][\"geometry\"][\"location\"]['lng'])\n",
    "coordenadas_destino\n"
   ]
  },
  {
   "cell_type": "markdown",
   "id": "051521cb",
   "metadata": {},
   "source": [
    "### Direção"
   ]
  },
  {
   "cell_type": "code",
   "execution_count": 8,
   "id": "c2121ded",
   "metadata": {},
   "outputs": [],
   "source": [
    "now = datetime.now()\n",
    "rota = gmaps2.directions(coordenadas_partida,coordenadas_destino,mode=\"walking\",departure_time=now,language='pt-BR')"
   ]
  },
  {
   "cell_type": "code",
   "execution_count": 1,
   "id": "9b5422fa",
   "metadata": {},
   "outputs": [],
   "source": [
    "#rota"
   ]
  },
  {
   "cell_type": "code",
   "execution_count": 10,
   "id": "bdddd415",
   "metadata": {},
   "outputs": [],
   "source": [
    "import json\n",
    "with open(local.replace(' ', '_') + \"_routes.json\", 'w') as f:\n",
    "    f.write(json.dumps(rota, indent=4, ensure_ascii=False))"
   ]
  },
  {
   "cell_type": "markdown",
   "id": "45cc56be",
   "metadata": {},
   "source": [
    "### Plotagem Mapa Rota"
   ]
  },
  {
   "cell_type": "code",
   "execution_count": 17,
   "id": "2d52371d",
   "metadata": {},
   "outputs": [
    {
     "data": {
      "application/vnd.jupyter.widget-view+json": {
       "model_id": "fbfda55966c443bd93a64be54c47e790",
       "version_major": 2,
       "version_minor": 0
      },
      "text/plain": [
       "Figure(layout=FigureLayout(height='420px'))"
      ]
     },
     "metadata": {},
     "output_type": "display_data"
    }
   ],
   "source": [
    "# Criando o Mapa (-15.96108 -48.02976)\n",
    "gmaps.configure(api_key='ADD_KEY')\n",
    "fig = gmaps.figure()\n",
    "\n",
    "# Criando a Camada\n",
    "layer = gmaps.directions.Directions(coordenadas_partida, coordenadas_destino,mode='walk')\n",
    "# Adicionando Camada\n",
    "fig.add_layer(layer)\n",
    "fig"
   ]
  }
 ],
 "metadata": {
  "kernelspec": {
   "display_name": "Python 3 (ipykernel)",
   "language": "python",
   "name": "python3"
  },
  "language_info": {
   "codemirror_mode": {
    "name": "ipython",
    "version": 3
   },
   "file_extension": ".py",
   "mimetype": "text/x-python",
   "name": "python",
   "nbconvert_exporter": "python",
   "pygments_lexer": "ipython3",
   "version": "3.9.7"
  }
 },
 "nbformat": 4,
 "nbformat_minor": 5
}
